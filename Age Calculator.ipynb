{
 "cells": [
  {
   "cell_type": "code",
   "execution_count": 1,
   "id": "e060af04-372f-4849-b0f7-5f75a598c77d",
   "metadata": {},
   "outputs": [
    {
     "name": "stdin",
     "output_type": "stream",
     "text": [
      "Enter Your Name:  Rahul jain\n",
      "Enter Year of Birth:  2006\n",
      "Enter Month:  3\n",
      "Enter Date of Birth:  8\n"
     ]
    },
    {
     "name": "stdout",
     "output_type": "stream",
     "text": [
      "---TIME---\n"
     ]
    },
    {
     "name": "stdin",
     "output_type": "stream",
     "text": [
      "Enter birth Hour:  11\n",
      "Enter birth Minute:  30\n"
     ]
    },
    {
     "name": "stdout",
     "output_type": "stream",
     "text": [
      "2006-03-08 11:30:00\n",
      "\n",
      "\n",
      "Rahul Jain's AGE: 19\n",
      "Rahul Jain's AGE in terms of Days:\n",
      "7133\n",
      "Rahul Jain's AGE in terms of Months:\n",
      "228\n"
     ]
    }
   ],
   "source": [
    "from datetime import datetime,date\n",
    "rr=datetime.today()\n",
    "try:\n",
    "    name=input(\"Enter Your Name: \").title()\n",
    "    yearr=int(input(\"Enter Year of Birth: \"))\n",
    "    monthh=int(input(\"Enter Month: \"))\n",
    "    datee=int(input(\"Enter Date of Birth: \"))\n",
    "    print(\"---TIME---\")\n",
    "    hourr=int(input(\"Enter birth Hour: \"))\n",
    "    minutee=int(input(\"Enter birth Minute: \"))\n",
    "    u=date.today()\n",
    "    birthday=datetime(yearr,monthh,datee,hourr,minutee)\n",
    "\n",
    "except:\n",
    "    print(\"Invalid Input\")\n",
    "else:\n",
    "    print(birthday)\n",
    "    print('\\n')\n",
    "        \n",
    "    print(f\"{name}'s AGE: {rr.year-birthday.year}\")\n",
    "    print(f\"{name}'s AGE in terms of Days:\\n{(rr-birthday).days}\")\n",
    "    print(f\"{name}'s AGE in terms of Months:\\n{(rr.year-birthday.year)*12}\")"
   ]
  },
  {
   "cell_type": "code",
   "execution_count": null,
   "id": "c296fd70-98a2-485a-b7c2-01854b99281e",
   "metadata": {},
   "outputs": [],
   "source": []
  }
 ],
 "metadata": {
  "kernelspec": {
   "display_name": "Python [conda env:base] *",
   "language": "python",
   "name": "conda-base-py"
  },
  "language_info": {
   "codemirror_mode": {
    "name": "ipython",
    "version": 3
   },
   "file_extension": ".py",
   "mimetype": "text/x-python",
   "name": "python",
   "nbconvert_exporter": "python",
   "pygments_lexer": "ipython3",
   "version": "3.13.5"
  }
 },
 "nbformat": 4,
 "nbformat_minor": 5
}
